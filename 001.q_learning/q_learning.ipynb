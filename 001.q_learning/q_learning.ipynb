{
 "cells": [
  {
   "cell_type": "markdown",
   "metadata": {},
   "source": [
    "## Q-learning sample\n",
    "\n",
    "<img src=\"./docs/qlearning_pescode.png\" width=1000>"
   ]
  },
  {
   "cell_type": "markdown",
   "metadata": {},
   "source": [
    "### Code"
   ]
  },
  {
   "cell_type": "code",
   "execution_count": 133,
   "metadata": {},
   "outputs": [],
   "source": [
    "import numpy as np\n",
    "import pandas as pd\n",
    "import time\n",
    "\n",
    "class simple_qlearning(object):\n",
    "    \n",
    "    @staticmethod\n",
    "    def initialize_q(state_num, action_num):\n",
    "        \n",
    "        q_table = np.zeros(shape=(state_num, action_num))\n",
    "        # q_table = np.random.rand(state_num, action_num)\n",
    "        return q_table    \n",
    "\n",
    "    def __init__(self, state_num, action_num, seed, \n",
    "                 epoch_num=10, r=10, lr=0.1, dr=0.8, \n",
    "                 greedy=0.9, time_fresh=0.1, if_save=False):\n",
    "        \n",
    "        np.random.seed(seed)\n",
    "        self.state_num = state_num\n",
    "        self.action_num = action_num\n",
    "        self.epoch_num = epoch_num\n",
    "        self.greedy = greedy\n",
    "        self.q_table = self.initialize_q(state_num, action_num)\n",
    "        \n",
    "        self.r = r\n",
    "        self.lr = lr\n",
    "        self.dr = dr\n",
    "        self.time_fresh = time_fresh\n",
    "        self.if_save = if_save\n",
    "        self.rst_dict = {}\n",
    "\n",
    "    def take_action(self, state_idx):\n",
    "        \n",
    "        random_num = np.random.rand()\n",
    "        probs = self.q_table[state_idx]\n",
    "        if random_num > self.greedy or probs.all() == 0:\n",
    "            action = np.random.choice(range(self.action_num))\n",
    "        else:\n",
    "            action = np.argmax(probs)\n",
    "            \n",
    "        # print(random_num>self.greedy, probs, action)\n",
    "        return action\n",
    "    \n",
    "    def init_env(self):\n",
    "        self.env = [\"O\"] + [\"_\"] * (self.state_num-2) + [\"T\"]\n",
    "    \n",
    "    def update_env(self, current_pos, action):\n",
    "        \n",
    "        if action == 1:\n",
    "            next_pos = current_pos + 1\n",
    "            self.env[current_pos] = \"_\"\n",
    "            if self.env[next_pos] != \"T\":\n",
    "                self.env[next_pos] = \"O\"\n",
    "        else:\n",
    "            \n",
    "            if current_pos == 0:\n",
    "                next_pos = current_pos + 1\n",
    "            else:\n",
    "                next_pos = current_pos - 1\n",
    "                \n",
    "            self.env[current_pos] = \"_\"\n",
    "            self.env[next_pos] = \"O\"\n",
    "            \n",
    "        print(\"\\r\"+\"\".join(self.env), end=\"\")\n",
    "        time.sleep(self.time_fresh)\n",
    "                \n",
    "    def update_q(self, current_pos, next_pos, action, r):\n",
    "        \n",
    "        update_val = max(self.q_table[next_pos]) * self.dr - self.q_table[current_pos][action] + r\n",
    "        self.q_table[current_pos][action] += self.lr * update_val\n",
    "        # print(update_val, self.q_table)\n",
    "    \n",
    "    def learn(self):\n",
    "        \n",
    "        for epoch in range(self.epoch_num):\n",
    "            step = 0\n",
    "            current_pos = 0\n",
    "            rst = [['O', '_', '_', '_', '_', 'T']]\n",
    "            self.init_env()\n",
    "            \n",
    "            while True:\n",
    "                \n",
    "                if current_pos == 0:\n",
    "                    next_pos, action = 1, 1 \n",
    "                else:\n",
    "                    action = self.take_action(current_pos)\n",
    "                    if action:\n",
    "                        next_pos = current_pos + action\n",
    "                    else:\n",
    "                        next_pos = current_pos - 1\n",
    "\n",
    "\n",
    "                if self.env[next_pos] == \"T\":\n",
    "                    self.update_q(current_pos, next_pos, action, self.r)\n",
    "                    self.update_env(current_pos, action)\n",
    "                    print(f\"\\r\\n Epoch: {epoch}, use step {step}....\")\n",
    "                    break\n",
    "                else:\n",
    "                    self.update_q(current_pos, next_pos, action, r=0)\n",
    "                    self.update_env(current_pos, action)      \n",
    "                    current_pos = next_pos\n",
    "                    step += 1\n",
    "                \n",
    "                # print(self.env, rst)\n",
    "                rst.append(self.env.copy())\n",
    "            \n",
    "            if self.if_save:\n",
    "                rst.append(['_', '_', '_', '_', '_', 'O'])          \n",
    "                self.rst_dict[epoch] = rst\n",
    "                \n",
    "            "
   ]
  },
  {
   "cell_type": "code",
   "execution_count": 134,
   "metadata": {},
   "outputs": [
    {
     "name": "stdout",
     "output_type": "stream",
     "text": [
      "_____T\n",
      " Epoch: 0, use step 18....\n",
      "_____T\n",
      " Epoch: 1, use step 24....\n",
      "_____T\n",
      " Epoch: 2, use step 10....\n",
      "_____T\n",
      " Epoch: 3, use step 10....\n",
      "_____T\n",
      " Epoch: 4, use step 4....\n",
      "_____T\n",
      " Epoch: 5, use step 6....\n",
      "_____T\n",
      " Epoch: 6, use step 4....\n",
      "_____T\n",
      " Epoch: 7, use step 4....\n",
      "_____T\n",
      " Epoch: 8, use step 4....\n",
      "_____T\n",
      " Epoch: 9, use step 4....\n"
     ]
    }
   ],
   "source": [
    "state_num, action_num = 6, 2\n",
    "\n",
    "ql = simple_qlearning(state_num, action_num, r=10, seed=2020, time_fresh=0.3, if_save=True)\n",
    "ql.learn()"
   ]
  },
  {
   "cell_type": "markdown",
   "metadata": {},
   "source": [
    "### Animation"
   ]
  },
  {
   "cell_type": "code",
   "execution_count": 147,
   "metadata": {},
   "outputs": [],
   "source": [
    "rst = ql.rst_dict"
   ]
  },
  {
   "cell_type": "code",
   "execution_count": 149,
   "metadata": {},
   "outputs": [
    {
     "data": {
      "image/png": "[encoded data removed]",
      "text/plain": [
       "<Figure size 504x288 with 1 Axes>"
      ]
     },
     "metadata": {
      "needs_background": "light"
     },
     "output_type": "display_data"
    },
    {
     "data": {
      "image/png": "[encoded data removed]",
      "text/plain": [
       "<Figure size 504x288 with 1 Axes>"
      ]
     },
     "metadata": {
      "needs_background": "light"
     },
     "output_type": "display_data"
    },
    {
     "data": {
      "image/png": "[encoded data removed]",
      "text/plain": [
       "<Figure size 504x288 with 1 Axes>"
      ]
     },
     "metadata": {
      "needs_background": "light"
     },
     "output_type": "display_data"
    },
    {
     "data": {
      "image/png": "[encoded data removed]",
      "text/plain": [
       "<Figure size 504x288 with 1 Axes>"
      ]
     },
     "metadata": {
      "needs_background": "light"
     },
     "output_type": "display_data"
    },
    {
     "data": {
      "image/png": "[encoded data removed]",
      "text/plain": [
       "<Figure size 504x288 with 1 Axes>"
      ]
     },
     "metadata": {
      "needs_background": "light"
     },
     "output_type": "display_data"
    },
    {
     "data": {
      "image/png": "[encoded data removed]",
      "text/plain": [
       "<Figure size 504x288 with 1 Axes>"
      ]
     },
     "metadata": {
      "needs_background": "light"
     },
     "output_type": "display_data"
    },
    {
     "data": {
      "image/png": "[encoded data removed]",
      "text/plain": [
       "<Figure size 504x288 with 1 Axes>"
      ]
     },
     "metadata": {
      "needs_background": "light"
     },
     "output_type": "display_data"
    },
    {
     "data": {
      "image/png": "[encoded data removed]",
      "text/plain": [
       "<Figure size 504x288 with 1 Axes>"
      ]
     },
     "metadata": {
      "needs_background": "light"
     },
     "output_type": "display_data"
    },
    {
     "data": {
      "image/png": "[encoded data removed]",
      "text/plain": [
       "<Figure size 504x288 with 1 Axes>"
      ]
     },
     "metadata": {
      "needs_background": "light"
     },
     "output_type": "display_data"
    },
    {
     "data": {
      "image/png": "[encoded data removed]",
      "text/plain": [
       "<Figure size 504x288 with 1 Axes>"
      ]
     },
     "metadata": {
      "needs_background": "light"
     },
     "output_type": "display_data"
    }
   ],
   "source": [
    "import matplotlib.pyplot as plt\n",
    "import matplotlib.animation as animation\n",
    "\n",
    "mapper = {\"_\":0, \"O\":2, \"T\":1}\n",
    "\n",
    "for num, item in rst.items():\n",
    "\n",
    "    data_gen = (x for x in item)\n",
    "    # for i in rst[0]:\n",
    "    #     d = [mapper[x] for x in i]\n",
    "    def init():\n",
    "        plots.append(ax.imshow([[2, 0, 0, 0, 0, 1]]))\n",
    "        return plots\n",
    "\n",
    "    def run(data):\n",
    "        plots[0].set_data([[mapper[x] for x in data]])\n",
    "        return plots\n",
    "\n",
    "    plots = []\n",
    "    fig, ax = plt.subplots(1, 1, figsize=(7,4))\n",
    "    ax.set_title(f\"Epoch {num} takes {len(item)} steps to achieve the target...\")\n",
    "    # plots.append(ax.imshow([]))\n",
    "\n",
    "    ani = animation.FuncAnimation(fig, run, data_gen, init_func=init, interval=500, repeat=False, blit=False, save_count=500)\n",
    "\n",
    "    ani.save(f\"./docs/Epoch_{num}.gif\", writer='pillow')\n"
   ]
  },
  {
   "cell_type": "code",
   "execution_count": null,
   "metadata": {},
   "outputs": [],
   "source": []
  }
 ],
 "metadata": {
  "interpreter": {
   "hash": "80ed3cd7a6bf066d796285bd1469410a95e1aa9fa775fef6f649ded2eadf9246"
  },
  "kernelspec": {
   "display_name": "Python 3.9.10 ('datasci_salary')",
   "language": "python",
   "name": "python3"
  },
  "language_info": {
   "codemirror_mode": {
    "name": "ipython",
    "version": 3
   },
   "file_extension": ".py",
   "mimetype": "text/x-python",
   "name": "python",
   "nbconvert_exporter": "python",
   "pygments_lexer": "ipython3",
   "version": "3.9.12"
  },
  "orig_nbformat": 4
 },
 "nbformat": 4,
 "nbformat_minor": 2
}
